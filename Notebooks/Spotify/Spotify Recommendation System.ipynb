{
 "cells": [
  {
   "cell_type": "code",
   "execution_count": 1,
   "id": "50ac34ed",
   "metadata": {},
   "outputs": [],
   "source": [
    "import pandas as pd"
   ]
  },
  {
   "cell_type": "code",
   "execution_count": 2,
   "id": "8d218487",
   "metadata": {},
   "outputs": [],
   "source": [
    "df = pd.read_csv(\"spotify_millsongdata.csv\")"
   ]
  },
  {
   "cell_type": "code",
   "execution_count": 3,
   "id": "79919672",
   "metadata": {},
   "outputs": [
    {
     "data": {
      "text/html": [
       "<div>\n",
       "<style scoped>\n",
       "    .dataframe tbody tr th:only-of-type {\n",
       "        vertical-align: middle;\n",
       "    }\n",
       "\n",
       "    .dataframe tbody tr th {\n",
       "        vertical-align: top;\n",
       "    }\n",
       "\n",
       "    .dataframe thead th {\n",
       "        text-align: right;\n",
       "    }\n",
       "</style>\n",
       "<table border=\"1\" class=\"dataframe\">\n",
       "  <thead>\n",
       "    <tr style=\"text-align: right;\">\n",
       "      <th></th>\n",
       "      <th>artist</th>\n",
       "      <th>song</th>\n",
       "      <th>link</th>\n",
       "      <th>text</th>\n",
       "    </tr>\n",
       "  </thead>\n",
       "  <tbody>\n",
       "    <tr>\n",
       "      <th>0</th>\n",
       "      <td>ABBA</td>\n",
       "      <td>Ahe's My Kind Of Girl</td>\n",
       "      <td>/a/abba/ahes+my+kind+of+girl_20598417.html</td>\n",
       "      <td>Look at her face, it's a wonderful face  \\r\\nA...</td>\n",
       "    </tr>\n",
       "    <tr>\n",
       "      <th>1</th>\n",
       "      <td>ABBA</td>\n",
       "      <td>Andante, Andante</td>\n",
       "      <td>/a/abba/andante+andante_20002708.html</td>\n",
       "      <td>Take it easy with me, please  \\r\\nTouch me gen...</td>\n",
       "    </tr>\n",
       "    <tr>\n",
       "      <th>2</th>\n",
       "      <td>ABBA</td>\n",
       "      <td>As Good As New</td>\n",
       "      <td>/a/abba/as+good+as+new_20003033.html</td>\n",
       "      <td>I'll never know why I had to go  \\r\\nWhy I had...</td>\n",
       "    </tr>\n",
       "    <tr>\n",
       "      <th>3</th>\n",
       "      <td>ABBA</td>\n",
       "      <td>Bang</td>\n",
       "      <td>/a/abba/bang_20598415.html</td>\n",
       "      <td>Making somebody happy is a question of give an...</td>\n",
       "    </tr>\n",
       "    <tr>\n",
       "      <th>4</th>\n",
       "      <td>ABBA</td>\n",
       "      <td>Bang-A-Boomerang</td>\n",
       "      <td>/a/abba/bang+a+boomerang_20002668.html</td>\n",
       "      <td>Making somebody happy is a question of give an...</td>\n",
       "    </tr>\n",
       "  </tbody>\n",
       "</table>\n",
       "</div>"
      ],
      "text/plain": [
       "  artist                   song                                        link  \\\n",
       "0   ABBA  Ahe's My Kind Of Girl  /a/abba/ahes+my+kind+of+girl_20598417.html   \n",
       "1   ABBA       Andante, Andante       /a/abba/andante+andante_20002708.html   \n",
       "2   ABBA         As Good As New        /a/abba/as+good+as+new_20003033.html   \n",
       "3   ABBA                   Bang                  /a/abba/bang_20598415.html   \n",
       "4   ABBA       Bang-A-Boomerang      /a/abba/bang+a+boomerang_20002668.html   \n",
       "\n",
       "                                                text  \n",
       "0  Look at her face, it's a wonderful face  \\r\\nA...  \n",
       "1  Take it easy with me, please  \\r\\nTouch me gen...  \n",
       "2  I'll never know why I had to go  \\r\\nWhy I had...  \n",
       "3  Making somebody happy is a question of give an...  \n",
       "4  Making somebody happy is a question of give an...  "
      ]
     },
     "execution_count": 3,
     "metadata": {},
     "output_type": "execute_result"
    }
   ],
   "source": [
    "df.head(5)"
   ]
  },
  {
   "cell_type": "code",
   "execution_count": 4,
   "id": "b61c723f",
   "metadata": {},
   "outputs": [
    {
     "data": {
      "text/html": [
       "<div>\n",
       "<style scoped>\n",
       "    .dataframe tbody tr th:only-of-type {\n",
       "        vertical-align: middle;\n",
       "    }\n",
       "\n",
       "    .dataframe tbody tr th {\n",
       "        vertical-align: top;\n",
       "    }\n",
       "\n",
       "    .dataframe thead th {\n",
       "        text-align: right;\n",
       "    }\n",
       "</style>\n",
       "<table border=\"1\" class=\"dataframe\">\n",
       "  <thead>\n",
       "    <tr style=\"text-align: right;\">\n",
       "      <th></th>\n",
       "      <th>artist</th>\n",
       "      <th>song</th>\n",
       "      <th>link</th>\n",
       "      <th>text</th>\n",
       "    </tr>\n",
       "  </thead>\n",
       "  <tbody>\n",
       "    <tr>\n",
       "      <th>57645</th>\n",
       "      <td>Ziggy Marley</td>\n",
       "      <td>Good Old Days</td>\n",
       "      <td>/z/ziggy+marley/good+old+days_10198588.html</td>\n",
       "      <td>Irie days come on play  \\r\\nLet the angels fly...</td>\n",
       "    </tr>\n",
       "    <tr>\n",
       "      <th>57646</th>\n",
       "      <td>Ziggy Marley</td>\n",
       "      <td>Hand To Mouth</td>\n",
       "      <td>/z/ziggy+marley/hand+to+mouth_20531167.html</td>\n",
       "      <td>Power to the workers  \\r\\nMore power  \\r\\nPowe...</td>\n",
       "    </tr>\n",
       "    <tr>\n",
       "      <th>57647</th>\n",
       "      <td>Zwan</td>\n",
       "      <td>Come With Me</td>\n",
       "      <td>/z/zwan/come+with+me_20148981.html</td>\n",
       "      <td>all you need  \\r\\nis something i'll believe  \\...</td>\n",
       "    </tr>\n",
       "    <tr>\n",
       "      <th>57648</th>\n",
       "      <td>Zwan</td>\n",
       "      <td>Desire</td>\n",
       "      <td>/z/zwan/desire_20148986.html</td>\n",
       "      <td>northern star  \\r\\nam i frightened  \\r\\nwhere ...</td>\n",
       "    </tr>\n",
       "    <tr>\n",
       "      <th>57649</th>\n",
       "      <td>Zwan</td>\n",
       "      <td>Heartsong</td>\n",
       "      <td>/z/zwan/heartsong_20148991.html</td>\n",
       "      <td>come in  \\r\\nmake yourself at home  \\r\\ni'm a ...</td>\n",
       "    </tr>\n",
       "  </tbody>\n",
       "</table>\n",
       "</div>"
      ],
      "text/plain": [
       "             artist           song  \\\n",
       "57645  Ziggy Marley  Good Old Days   \n",
       "57646  Ziggy Marley  Hand To Mouth   \n",
       "57647          Zwan   Come With Me   \n",
       "57648          Zwan         Desire   \n",
       "57649          Zwan      Heartsong   \n",
       "\n",
       "                                              link  \\\n",
       "57645  /z/ziggy+marley/good+old+days_10198588.html   \n",
       "57646  /z/ziggy+marley/hand+to+mouth_20531167.html   \n",
       "57647           /z/zwan/come+with+me_20148981.html   \n",
       "57648                 /z/zwan/desire_20148986.html   \n",
       "57649              /z/zwan/heartsong_20148991.html   \n",
       "\n",
       "                                                    text  \n",
       "57645  Irie days come on play  \\r\\nLet the angels fly...  \n",
       "57646  Power to the workers  \\r\\nMore power  \\r\\nPowe...  \n",
       "57647  all you need  \\r\\nis something i'll believe  \\...  \n",
       "57648  northern star  \\r\\nam i frightened  \\r\\nwhere ...  \n",
       "57649  come in  \\r\\nmake yourself at home  \\r\\ni'm a ...  "
      ]
     },
     "execution_count": 4,
     "metadata": {},
     "output_type": "execute_result"
    }
   ],
   "source": [
    "df.tail(5)"
   ]
  },
  {
   "cell_type": "code",
   "execution_count": 5,
   "id": "d7d8fa2a",
   "metadata": {},
   "outputs": [
    {
     "data": {
      "text/plain": [
       "(57650, 4)"
      ]
     },
     "execution_count": 5,
     "metadata": {},
     "output_type": "execute_result"
    }
   ],
   "source": [
    "df.shape"
   ]
  },
  {
   "cell_type": "code",
   "execution_count": 6,
   "id": "a4092c3d",
   "metadata": {},
   "outputs": [
    {
     "name": "stdout",
     "output_type": "stream",
     "text": [
      "<class 'pandas.core.frame.DataFrame'>\n",
      "RangeIndex: 57650 entries, 0 to 57649\n",
      "Data columns (total 4 columns):\n",
      " #   Column  Non-Null Count  Dtype \n",
      "---  ------  --------------  ----- \n",
      " 0   artist  57650 non-null  object\n",
      " 1   song    57650 non-null  object\n",
      " 2   link    57650 non-null  object\n",
      " 3   text    57650 non-null  object\n",
      "dtypes: object(4)\n",
      "memory usage: 1.8+ MB\n"
     ]
    }
   ],
   "source": [
    "df.info()"
   ]
  },
  {
   "cell_type": "code",
   "execution_count": 6,
   "id": "a8fdecf9",
   "metadata": {},
   "outputs": [
    {
     "data": {
      "text/plain": [
       "artist    0\n",
       "song      0\n",
       "link      0\n",
       "text      0\n",
       "dtype: int64"
      ]
     },
     "execution_count": 6,
     "metadata": {},
     "output_type": "execute_result"
    }
   ],
   "source": [
    "# checking any null values\n",
    "df.isnull().sum()"
   ]
  },
  {
   "cell_type": "code",
   "execution_count": 7,
   "id": "06b282cf",
   "metadata": {},
   "outputs": [
    {
     "data": {
      "text/plain": [
       "0"
      ]
     },
     "execution_count": 7,
     "metadata": {},
     "output_type": "execute_result"
    }
   ],
   "source": [
    "# Checking any duplicated columns\n",
    "df.duplicated().sum()"
   ]
  },
  {
   "cell_type": "markdown",
   "id": "19b013b8",
   "metadata": {},
   "source": [
    "Removing 'link' column and taking 5000 random columns to train our model and finally reseting the index."
   ]
  },
  {
   "cell_type": "code",
   "execution_count": 8,
   "id": "dde3d24b",
   "metadata": {},
   "outputs": [],
   "source": [
    "df =df.sample(5000).drop('link', axis=1).reset_index(drop=True)"
   ]
  },
  {
   "cell_type": "code",
   "execution_count": 9,
   "id": "cf5ff69f",
   "metadata": {},
   "outputs": [
    {
     "data": {
      "text/html": [
       "<div>\n",
       "<style scoped>\n",
       "    .dataframe tbody tr th:only-of-type {\n",
       "        vertical-align: middle;\n",
       "    }\n",
       "\n",
       "    .dataframe tbody tr th {\n",
       "        vertical-align: top;\n",
       "    }\n",
       "\n",
       "    .dataframe thead th {\n",
       "        text-align: right;\n",
       "    }\n",
       "</style>\n",
       "<table border=\"1\" class=\"dataframe\">\n",
       "  <thead>\n",
       "    <tr style=\"text-align: right;\">\n",
       "      <th></th>\n",
       "      <th>artist</th>\n",
       "      <th>song</th>\n",
       "      <th>text</th>\n",
       "    </tr>\n",
       "  </thead>\n",
       "  <tbody>\n",
       "    <tr>\n",
       "      <th>0</th>\n",
       "      <td>Doobie Brothers</td>\n",
       "      <td>Excited</td>\n",
       "      <td>Week by week, day by day  \\r\\nYou got me chang...</td>\n",
       "    </tr>\n",
       "    <tr>\n",
       "      <th>1</th>\n",
       "      <td>Johnny Cash</td>\n",
       "      <td>I Am A Pilgrim</td>\n",
       "      <td>I am a pilgrim and a stranger  \\r\\nTraveling t...</td>\n",
       "    </tr>\n",
       "    <tr>\n",
       "      <th>2</th>\n",
       "      <td>Devo</td>\n",
       "      <td>Happy Guy</td>\n",
       "      <td>Well its an open road  \\r\\nAnd its full of lif...</td>\n",
       "    </tr>\n",
       "    <tr>\n",
       "      <th>3</th>\n",
       "      <td>Frankie Goes To Hollywood</td>\n",
       "      <td>Warriors Of The Wasteland</td>\n",
       "      <td>From diamond mine to the factory  \\r\\nEverybod...</td>\n",
       "    </tr>\n",
       "    <tr>\n",
       "      <th>4</th>\n",
       "      <td>Diana Ross</td>\n",
       "      <td>All For One</td>\n",
       "      <td>All for one and one for all  \\r\\nYou live, you...</td>\n",
       "    </tr>\n",
       "    <tr>\n",
       "      <th>5</th>\n",
       "      <td>Whitesnake</td>\n",
       "      <td>Dancing Girls</td>\n",
       "      <td>I don't need a doctor, I don't need a priest, ...</td>\n",
       "    </tr>\n",
       "    <tr>\n",
       "      <th>6</th>\n",
       "      <td>Elton John</td>\n",
       "      <td>Big Dipper</td>\n",
       "      <td>Now I saw you talking to a cute little slip of...</td>\n",
       "    </tr>\n",
       "    <tr>\n",
       "      <th>7</th>\n",
       "      <td>Justin Bieber</td>\n",
       "      <td>One Life</td>\n",
       "      <td>So girl  \\r\\nYou just be honest with me, I kno...</td>\n",
       "    </tr>\n",
       "    <tr>\n",
       "      <th>8</th>\n",
       "      <td>Frankie Goes To Hollywood</td>\n",
       "      <td>Born To Run</td>\n",
       "      <td>In the day we sweat it out in the streets of a...</td>\n",
       "    </tr>\n",
       "    <tr>\n",
       "      <th>9</th>\n",
       "      <td>Ingrid Michaelson</td>\n",
       "      <td>Handsome Hands</td>\n",
       "      <td>I think I'm the only one who really knows  \\r\\...</td>\n",
       "    </tr>\n",
       "  </tbody>\n",
       "</table>\n",
       "</div>"
      ],
      "text/plain": [
       "                      artist                       song  \\\n",
       "0            Doobie Brothers                    Excited   \n",
       "1                Johnny Cash             I Am A Pilgrim   \n",
       "2                       Devo                  Happy Guy   \n",
       "3  Frankie Goes To Hollywood  Warriors Of The Wasteland   \n",
       "4                 Diana Ross                All For One   \n",
       "5                 Whitesnake              Dancing Girls   \n",
       "6                 Elton John                 Big Dipper   \n",
       "7              Justin Bieber                   One Life   \n",
       "8  Frankie Goes To Hollywood                Born To Run   \n",
       "9          Ingrid Michaelson             Handsome Hands   \n",
       "\n",
       "                                                text  \n",
       "0  Week by week, day by day  \\r\\nYou got me chang...  \n",
       "1  I am a pilgrim and a stranger  \\r\\nTraveling t...  \n",
       "2  Well its an open road  \\r\\nAnd its full of lif...  \n",
       "3  From diamond mine to the factory  \\r\\nEverybod...  \n",
       "4  All for one and one for all  \\r\\nYou live, you...  \n",
       "5  I don't need a doctor, I don't need a priest, ...  \n",
       "6  Now I saw you talking to a cute little slip of...  \n",
       "7  So girl  \\r\\nYou just be honest with me, I kno...  \n",
       "8  In the day we sweat it out in the streets of a...  \n",
       "9  I think I'm the only one who really knows  \\r\\...  "
      ]
     },
     "execution_count": 9,
     "metadata": {},
     "output_type": "execute_result"
    }
   ],
   "source": [
    "df.head(10)"
   ]
  },
  {
   "cell_type": "code",
   "execution_count": 11,
   "id": "26eb5b1c",
   "metadata": {},
   "outputs": [
    {
     "data": {
      "text/plain": [
       "\"Week by week, day by day  \\r\\nYou got me changin' in so many ways  \\r\\nThinking of you i feel the call  \\r\\nSomebody get a doctor  \\r\\nI'm starting to fall  \\r\\n  \\r\\nI get excited don't you understand  \\r\\nI get excited 'cause it's part of the plan  \\r\\n  \\r\\nDay by day, hour by hour  \\r\\nI get a shiver from your lovin' power  \\r\\nFire in your eyes just lets me know  \\r\\nAin't no way i ever let go  \\r\\n  \\r\\nI get excited don't you understand  \\r\\nI get excited 'cause it's part of the plan  \\r\\n  \\r\\nHot love, what you bring to me  \\r\\nI get excited by the novelty  \\r\\nHot love, like a fever you feed  \\r\\nBlack lace and promise is all that i need  \\r\\nYou bring it on  \\r\\n  \\r\\nI love it baby, i love it all  \\r\\nAnytime, anytime you call  \\r\\nDay or night as the world moves on  \\r\\nIt's time for action, the talkin' is done\\r\\n\\r\\n\""
      ]
     },
     "execution_count": 11,
     "metadata": {},
     "output_type": "execute_result"
    }
   ],
   "source": [
    "# Showing the first column after sampling\n",
    "df['text'][0]"
   ]
  },
  {
   "cell_type": "markdown",
   "id": "c2440b10",
   "metadata": {},
   "source": [
    "Now checking the shape"
   ]
  },
  {
   "cell_type": "code",
   "execution_count": 12,
   "id": "4a0c4186",
   "metadata": {},
   "outputs": [
    {
     "data": {
      "text/plain": [
       "(5000, 3)"
      ]
     },
     "execution_count": 12,
     "metadata": {},
     "output_type": "execute_result"
    }
   ],
   "source": [
    "df.shape"
   ]
  },
  {
   "cell_type": "markdown",
   "id": "865afecc",
   "metadata": {},
   "source": [
    "## Text Cleaning "
   ]
  },
  {
   "cell_type": "code",
   "execution_count": 13,
   "id": "b2359525",
   "metadata": {},
   "outputs": [],
   "source": [
    "df['text'] = df['text'].str.lower().replace(r'^\\w\\s', ' ').replace(r'\\n', ' ', regex = True)"
   ]
  },
  {
   "cell_type": "markdown",
   "id": "be79a332",
   "metadata": {},
   "source": [
    "After cleaning the text "
   ]
  },
  {
   "cell_type": "code",
   "execution_count": 14,
   "id": "38e0060d",
   "metadata": {},
   "outputs": [
    {
     "data": {
      "text/plain": [
       "0       week by week, day by day  \\r you got me changi...\n",
       "1       i am a pilgrim and a stranger  \\r traveling th...\n",
       "2       well its an open road  \\r and its full of life...\n",
       "3       from diamond mine to the factory  \\r everybody...\n",
       "4       all for one and one for all  \\r you live, you ...\n",
       "                              ...                        \n",
       "4995    sweet bonnie brown, looking like a baby  \\r co...\n",
       "4996    it would be easier to take the wet from water ...\n",
       "4997    don't get any big ideas  \\r they're not gonna ...\n",
       "4998    there's a danger zone, not a stranger zone  \\r...\n",
       "4999    [intro]  \\r yeah, yeah, yeh  \\r them n-ggas is...\n",
       "Name: text, Length: 5000, dtype: object"
      ]
     },
     "execution_count": 14,
     "metadata": {},
     "output_type": "execute_result"
    }
   ],
   "source": [
    "df['text']"
   ]
  },
  {
   "cell_type": "markdown",
   "id": "8697e959",
   "metadata": {},
   "source": [
    "## Data Preprocessing"
   ]
  },
  {
   "cell_type": "code",
   "execution_count": 15,
   "id": "74504417",
   "metadata": {},
   "outputs": [],
   "source": [
    "import nltk\n",
    "from nltk.stem.porter import PorterStemmer\n",
    "stemmer = PorterStemmer()"
   ]
  },
  {
   "cell_type": "markdown",
   "id": "f3c65f1f",
   "metadata": {},
   "source": [
    "Convert all the tages to token"
   ]
  },
  {
   "cell_type": "code",
   "execution_count": 16,
   "id": "7e78451e",
   "metadata": {},
   "outputs": [],
   "source": [
    "def tokenization(txt):\n",
    "    tokens = nltk.word_tokenize(txt)\n",
    "    stemming = [stemmer.stem(w) for w in tokens]\n",
    "    return \" \".join(stemming)"
   ]
  },
  {
   "cell_type": "markdown",
   "id": "9c9cf503",
   "metadata": {},
   "source": [
    "Explaining how it works"
   ]
  },
  {
   "cell_type": "code",
   "execution_count": 17,
   "id": "d6ee22a0",
   "metadata": {},
   "outputs": [
    {
     "data": {
      "text/plain": [
       "'you are beauti , beauti'"
      ]
     },
     "execution_count": 17,
     "metadata": {},
     "output_type": "execute_result"
    }
   ],
   "source": [
    "# Converted all similar words into a single word.\n",
    "tokenization(\"You are beautiful, beauty\")"
   ]
  },
  {
   "cell_type": "markdown",
   "id": "36eff1be",
   "metadata": {},
   "source": [
    "#### Now applying to all of the text to convert it into Tokens. "
   ]
  },
  {
   "cell_type": "code",
   "execution_count": 18,
   "id": "f5c1ece2",
   "metadata": {},
   "outputs": [],
   "source": [
    "df['text'] = df['text'].apply(lambda x: tokenization(x))"
   ]
  },
  {
   "cell_type": "markdown",
   "id": "79ec0801",
   "metadata": {},
   "source": [
    "Converted into tokens"
   ]
  },
  {
   "cell_type": "code",
   "execution_count": 19,
   "id": "27d290e5",
   "metadata": {},
   "outputs": [
    {
     "data": {
      "text/plain": [
       "0       week by week , day by day you got me changin '...\n",
       "1       i am a pilgrim and a stranger travel through t...\n",
       "2       well it an open road and it full of life but i...\n",
       "3       from diamond mine to the factori everybodi 's ...\n",
       "4       all for one and one for all you live , you giv...\n",
       "                              ...                        \n",
       "4995    sweet bonni brown , look like a babi come down...\n",
       "4996    it would be easier to take the wet from water ...\n",
       "4997    do n't get ani big idea they 're not gon na ha...\n",
       "4998    there 's a danger zone , not a stranger zone t...\n",
       "4999    [ intro ] yeah , yeah , yeh them n-gga is talk...\n",
       "Name: text, Length: 5000, dtype: object"
      ]
     },
     "execution_count": 19,
     "metadata": {},
     "output_type": "execute_result"
    }
   ],
   "source": [
    "df['text']"
   ]
  },
  {
   "cell_type": "markdown",
   "id": "478a0e83",
   "metadata": {},
   "source": [
    "Convert into vectors and then finding the similarities"
   ]
  },
  {
   "cell_type": "code",
   "execution_count": 20,
   "id": "95fc3be2",
   "metadata": {},
   "outputs": [],
   "source": [
    "from sklearn.feature_extraction.text import TfidfVectorizer\n",
    "from sklearn.metrics.pairwise import cosine_similarity"
   ]
  },
  {
   "cell_type": "code",
   "execution_count": 21,
   "id": "f4945e8f",
   "metadata": {},
   "outputs": [],
   "source": [
    "tfidvector = TfidfVectorizer(analyzer='word',stop_words='english')"
   ]
  },
  {
   "cell_type": "code",
   "execution_count": 22,
   "id": "d4869b37",
   "metadata": {},
   "outputs": [],
   "source": [
    "matrix = tfidvector.fit_transform(df['text'])"
   ]
  },
  {
   "cell_type": "code",
   "execution_count": 23,
   "id": "ece1c1a5",
   "metadata": {},
   "outputs": [
    {
     "data": {
      "text/plain": [
       "<5000x17366 sparse matrix of type '<class 'numpy.float64'>'\n",
       "\twith 274390 stored elements in Compressed Sparse Row format>"
      ]
     },
     "execution_count": 23,
     "metadata": {},
     "output_type": "execute_result"
    }
   ],
   "source": [
    "matrix"
   ]
  },
  {
   "cell_type": "markdown",
   "id": "292cc6c2",
   "metadata": {},
   "source": [
    "Now finding the similarities"
   ]
  },
  {
   "cell_type": "code",
   "execution_count": 25,
   "id": "e343276c",
   "metadata": {},
   "outputs": [],
   "source": [
    "similarity = cosine_similarity(matrix)"
   ]
  },
  {
   "cell_type": "code",
   "execution_count": 26,
   "id": "c1794772",
   "metadata": {},
   "outputs": [
    {
     "data": {
      "text/plain": [
       "array([1.        , 0.01325554, 0.0532997 , ..., 0.01119195, 0.00229915,\n",
       "       0.05300793])"
      ]
     },
     "execution_count": 26,
     "metadata": {},
     "output_type": "execute_result"
    }
   ],
   "source": [
    "# For the first song\n",
    "similarity[0]"
   ]
  },
  {
   "cell_type": "markdown",
   "id": "dc465ef6",
   "metadata": {},
   "source": [
    "## Recommendation System"
   ]
  },
  {
   "cell_type": "code",
   "execution_count": 27,
   "id": "a6221770",
   "metadata": {},
   "outputs": [
    {
     "data": {
      "text/html": [
       "<div>\n",
       "<style scoped>\n",
       "    .dataframe tbody tr th:only-of-type {\n",
       "        vertical-align: middle;\n",
       "    }\n",
       "\n",
       "    .dataframe tbody tr th {\n",
       "        vertical-align: top;\n",
       "    }\n",
       "\n",
       "    .dataframe thead th {\n",
       "        text-align: right;\n",
       "    }\n",
       "</style>\n",
       "<table border=\"1\" class=\"dataframe\">\n",
       "  <thead>\n",
       "    <tr style=\"text-align: right;\">\n",
       "      <th></th>\n",
       "      <th>artist</th>\n",
       "      <th>song</th>\n",
       "      <th>text</th>\n",
       "    </tr>\n",
       "  </thead>\n",
       "  <tbody>\n",
       "    <tr>\n",
       "      <th>7</th>\n",
       "      <td>Justin Bieber</td>\n",
       "      <td>One Life</td>\n",
       "      <td>so girl you just be honest with me , i know we...</td>\n",
       "    </tr>\n",
       "  </tbody>\n",
       "</table>\n",
       "</div>"
      ],
      "text/plain": [
       "          artist      song                                               text\n",
       "7  Justin Bieber  One Life  so girl you just be honest with me , i know we..."
      ]
     },
     "execution_count": 27,
     "metadata": {},
     "output_type": "execute_result"
    }
   ],
   "source": [
    "df[df['song'] == 'One Life']"
   ]
  },
  {
   "cell_type": "code",
   "execution_count": 28,
   "id": "5aaa2361",
   "metadata": {},
   "outputs": [],
   "source": [
    "def recommendation(song_df):\n",
    "    idx = df[df['song'] == song_df].index[0]\n",
    "    distances = sorted(list(enumerate(similarity[idx])),reverse=True,key=lambda x:x[1])\n",
    "    \n",
    "    songs = []\n",
    "    for m_id in distances[1:5]:\n",
    "        songs.append(df.iloc[m_id[0]].song)\n",
    "        \n",
    "    return songs"
   ]
  },
  {
   "cell_type": "markdown",
   "id": "49bcef39",
   "metadata": {},
   "source": [
    "#### Getting the recommendations"
   ]
  },
  {
   "cell_type": "code",
   "execution_count": 29,
   "id": "216c25bb",
   "metadata": {},
   "outputs": [
    {
     "data": {
      "text/plain": [
       "['Numb', 'I Wanna Be Loved', 'Get Up', 'I Wanna Be']"
      ]
     },
     "execution_count": 29,
     "metadata": {},
     "output_type": "execute_result"
    }
   ],
   "source": [
    "recommendation('One Life')"
   ]
  },
  {
   "cell_type": "markdown",
   "id": "8d90f90f",
   "metadata": {},
   "source": [
    "#### Saving the files"
   ]
  },
  {
   "cell_type": "code",
   "execution_count": 21,
   "id": "18192437",
   "metadata": {},
   "outputs": [],
   "source": [
    "import pickle\n",
    "pickle.dump(similarity,open('similarity.pkl','wb'))\n",
    "pickle.dump(df,open('df.pkl','wb'))"
   ]
  },
  {
   "cell_type": "code",
   "execution_count": null,
   "id": "e7edcf20",
   "metadata": {},
   "outputs": [],
   "source": []
  }
 ],
 "metadata": {
  "kernelspec": {
   "display_name": "Python 3 (ipykernel)",
   "language": "python",
   "name": "python3"
  },
  "language_info": {
   "codemirror_mode": {
    "name": "ipython",
    "version": 3
   },
   "file_extension": ".py",
   "mimetype": "text/x-python",
   "name": "python",
   "nbconvert_exporter": "python",
   "pygments_lexer": "ipython3",
   "version": "3.10.6"
  }
 },
 "nbformat": 4,
 "nbformat_minor": 5
}
